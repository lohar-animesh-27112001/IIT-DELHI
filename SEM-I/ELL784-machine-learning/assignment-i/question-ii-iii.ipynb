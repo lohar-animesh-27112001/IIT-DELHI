{
 "cells": [
  {
   "cell_type": "code",
   "execution_count": 39,
   "id": "b3a52e08",
   "metadata": {},
   "outputs": [],
   "source": [
    "import itertools\n",
    "import numpy as np"
   ]
  },
  {
   "cell_type": "code",
   "execution_count": 40,
   "id": "dd6dcab3",
   "metadata": {},
   "outputs": [],
   "source": [
    "def generate_boolean_functions(n):\n",
    "    inputs = list(itertools.product([0, 1], repeat=n))\n",
    "    num_functions = 2**(2**n)\n",
    "    functions = []\n",
    "    for i in range(num_functions):\n",
    "        output = [int(x) for x in f\"{i:0{2**n}b}\"]\n",
    "        functions.append(list(zip(inputs, output)))\n",
    "    return functions"
   ]
  },
  {
   "cell_type": "code",
   "execution_count": 41,
   "id": "437f74ea",
   "metadata": {},
   "outputs": [],
   "source": [
    "def relu(Z):\n",
    "    return np.maximum(0, Z)\n",
    "\n",
    "def relu_derivative(Z):\n",
    "    return np.where(Z > 0, 1, 0)"
   ]
  },
  {
   "cell_type": "code",
   "execution_count": 42,
   "id": "ecf0ba72",
   "metadata": {},
   "outputs": [],
   "source": [
    "def forward_propagate(weights, biases, X):\n",
    "    activations = [X]\n",
    "    for l in range(len(weights)):\n",
    "        Z = np.dot(activations[-1], weights[l]) + biases[l]\n",
    "        A = relu(Z)\n",
    "        activations.append(A)\n",
    "    return activations[-1]"
   ]
  },
  {
   "cell_type": "code",
   "execution_count": 43,
   "id": "1c0c0b85",
   "metadata": {},
   "outputs": [],
   "source": [
    "def backward_propagate(weights, biases, X, y, output):\n",
    "    L = len(weights)\n",
    "    d_weights = [np.zeros_like(w) for w in weights]\n",
    "    d_biases = [np.zeros_like(b) for b in biases]\n",
    "    error = output - y\n",
    "    delta = error\n",
    "    \n",
    "    for l in reversed(range(L)):\n",
    "        d_weights[l] = np.dot(X.T if l == 0 else relu_derivative(np.dot(X, weights[l-1])).T, delta)\n",
    "        d_biases[l] = np.sum(delta, axis=0, keepdims=True)\n",
    "        if l > 0:\n",
    "            delta = np.dot(delta, weights[l].T) * relu_derivative(np.dot(X, weights[l-1]))\n",
    "    \n",
    "    return d_weights, d_biases"
   ]
  },
  {
   "cell_type": "code",
   "execution_count": 44,
   "id": "0fe84937",
   "metadata": {},
   "outputs": [],
   "source": [
    "def create_ann(num_inputs, num_outputs, layers, hidden_layer_size=4):\n",
    "    np.random.seed(0)\n",
    "    weights = []\n",
    "    biases = []\n",
    "    for i in range(layers):\n",
    "        input_dim = num_inputs if i == 0 else hidden_layer_size\n",
    "        output_dim = hidden_layer_size if i < layers - 1 else num_outputs\n",
    "        weights.append(np.random.randn(input_dim, output_dim))\n",
    "        biases.append(np.zeros((1, output_dim)))\n",
    "    return weights, biases"
   ]
  },
  {
   "cell_type": "code",
   "execution_count": 45,
   "id": "2f561f3a",
   "metadata": {},
   "outputs": [],
   "source": [
    "def train_ann(ann, X, y, learning_rate, epochs):\n",
    "    weights, biases = ann\n",
    "    for _ in range(epochs):\n",
    "        output = forward_propagate(weights, biases, X)\n",
    "        delta_weights, delta_biases = backward_propagate(weights, biases, X, y, output)\n",
    "        weights = [w - learning_rate * dw for w, dw in zip(weights, delta_weights)]\n",
    "        biases = [b - learning_rate * db for b, db in zip(biases, delta_biases)]\n",
    "    return weights, biases\n",
    "\n",
    "def test_ann(ann, X, y):\n",
    "    weights, biases = ann\n",
    "    output = forward_propagate(weights, biases, X)\n",
    "    predictions = np.round(output)\n",
    "    accuracy = np.mean(predictions == y)\n",
    "    return accuracy"
   ]
  },
  {
   "cell_type": "code",
   "execution_count": 46,
   "id": "478fa4e4",
   "metadata": {},
   "outputs": [],
   "source": [
    "def is_learnable(function, max_layers, learning_rate, epochs, threshold=0.95):\n",
    "    X, y = zip(*function)\n",
    "    X = np.array(X)\n",
    "    y = np.array(y).reshape(-1, 1)\n",
    "    for L in range(1, max_layers + 1):\n",
    "        ann = create_ann(len(X[0]), 1, L)\n",
    "        trained_ann = train_ann(ann, X, y, learning_rate, epochs)\n",
    "        if test_ann(trained_ann, X, y) >= threshold:\n",
    "            return True\n",
    "    return False"
   ]
  },
  {
   "cell_type": "code",
   "execution_count": 47,
   "id": "3f332688",
   "metadata": {},
   "outputs": [],
   "source": [
    "def count_learnable_functions(n, max_layers=1, learning_rate=0.1, epochs=1000, threshold=0.95):\n",
    "    functions = generate_boolean_functions(n)\n",
    "    learnable_counts = {L: 0 for L in range(1, max_layers + 1)}\n",
    "    \n",
    "    for func in functions:\n",
    "        for L in range(1, max_layers + 1):\n",
    "            if is_learnable(func, L, learning_rate, epochs, threshold):\n",
    "                learnable_counts[L] += 1\n",
    "                break\n",
    "    \n",
    "    return learnable_counts"
   ]
  },
  {
   "cell_type": "code",
   "execution_count": 49,
   "id": "78fba581",
   "metadata": {},
   "outputs": [
    {
     "name": "stdout",
     "output_type": "stream",
     "text": [
      "For n=1:\n",
      "  Learnable with 1 layers neurons: 4/4\n",
      "For n=2:\n",
      "  Learnable with 1 layers neurons: 14/16\n",
      "For n=3:\n",
      "  Learnable with 1 layers neurons: 85/256\n"
     ]
    }
   ],
   "source": [
    "n_values = [1,2,3]\n",
    "for n in n_values:\n",
    "    learnable_counts = count_learnable_functions(n)\n",
    "    print(f\"For n={n}:\")\n",
    "    for L, count in learnable_counts.items():\n",
    "        print(f\"  Learnable with {L} layers neurons: {count}/{2**(2**n)}\")"
   ]
  }
 ],
 "metadata": {
  "kernelspec": {
   "display_name": "Python 3 (ipykernel)",
   "language": "python",
   "name": "python3"
  },
  "language_info": {
   "codemirror_mode": {
    "name": "ipython",
    "version": 3
   },
   "file_extension": ".py",
   "mimetype": "text/x-python",
   "name": "python",
   "nbconvert_exporter": "python",
   "pygments_lexer": "ipython3",
   "version": "3.9.13"
  }
 },
 "nbformat": 4,
 "nbformat_minor": 5
}
