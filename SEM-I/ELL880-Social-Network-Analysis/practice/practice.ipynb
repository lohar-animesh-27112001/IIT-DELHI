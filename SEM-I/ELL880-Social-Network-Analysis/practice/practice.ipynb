{
 "cells": [
  {
   "cell_type": "code",
   "execution_count": 1,
   "id": "008fa7e5",
   "metadata": {},
   "outputs": [],
   "source": [
    "import networkx as nx\n",
    "import matplotlib.pyplot as plt\n",
    "import pandas as pd"
   ]
  },
  {
   "cell_type": "code",
   "execution_count": 13,
   "id": "1e68fda5",
   "metadata": {},
   "outputs": [],
   "source": [
    "edges_file = \"./fb-pages-food.edges\"\n",
    "edges = pd.read_csv(edges_file, header=None, names=[\"source\", \"target\"])"
   ]
  },
  {
   "cell_type": "code",
   "execution_count": 14,
   "id": "bb11e4b8",
   "metadata": {},
   "outputs": [
    {
     "data": {
      "text/html": [
       "<div>\n",
       "<style scoped>\n",
       "    .dataframe tbody tr th:only-of-type {\n",
       "        vertical-align: middle;\n",
       "    }\n",
       "\n",
       "    .dataframe tbody tr th {\n",
       "        vertical-align: top;\n",
       "    }\n",
       "\n",
       "    .dataframe thead th {\n",
       "        text-align: right;\n",
       "    }\n",
       "</style>\n",
       "<table border=\"1\" class=\"dataframe\">\n",
       "  <thead>\n",
       "    <tr style=\"text-align: right;\">\n",
       "      <th></th>\n",
       "      <th>Source</th>\n",
       "      <th>Target</th>\n",
       "      <th>Type</th>\n",
       "      <th>Id</th>\n",
       "      <th>Label</th>\n",
       "      <th>Weight</th>\n",
       "    </tr>\n",
       "  </thead>\n",
       "  <tbody>\n",
       "    <tr>\n",
       "      <th>0</th>\n",
       "      <td>0</td>\n",
       "      <td>1</td>\n",
       "      <td>Directed</td>\n",
       "      <td>0</td>\n",
       "      <td>NaN</td>\n",
       "      <td>1</td>\n",
       "    </tr>\n",
       "    <tr>\n",
       "      <th>1</th>\n",
       "      <td>2</td>\n",
       "      <td>3</td>\n",
       "      <td>Directed</td>\n",
       "      <td>1</td>\n",
       "      <td>NaN</td>\n",
       "      <td>1</td>\n",
       "    </tr>\n",
       "    <tr>\n",
       "      <th>2</th>\n",
       "      <td>2</td>\n",
       "      <td>4</td>\n",
       "      <td>Directed</td>\n",
       "      <td>2</td>\n",
       "      <td>NaN</td>\n",
       "      <td>1</td>\n",
       "    </tr>\n",
       "    <tr>\n",
       "      <th>3</th>\n",
       "      <td>5</td>\n",
       "      <td>6</td>\n",
       "      <td>Directed</td>\n",
       "      <td>3</td>\n",
       "      <td>NaN</td>\n",
       "      <td>1</td>\n",
       "    </tr>\n",
       "    <tr>\n",
       "      <th>4</th>\n",
       "      <td>5</td>\n",
       "      <td>7</td>\n",
       "      <td>Directed</td>\n",
       "      <td>4</td>\n",
       "      <td>NaN</td>\n",
       "      <td>1</td>\n",
       "    </tr>\n",
       "    <tr>\n",
       "      <th>...</th>\n",
       "      <td>...</td>\n",
       "      <td>...</td>\n",
       "      <td>...</td>\n",
       "      <td>...</td>\n",
       "      <td>...</td>\n",
       "      <td>...</td>\n",
       "    </tr>\n",
       "    <tr>\n",
       "      <th>25566</th>\n",
       "      <td>420</td>\n",
       "      <td>143</td>\n",
       "      <td>Directed</td>\n",
       "      <td>25566</td>\n",
       "      <td>NaN</td>\n",
       "      <td>1</td>\n",
       "    </tr>\n",
       "    <tr>\n",
       "      <th>25567</th>\n",
       "      <td>174</td>\n",
       "      <td>859</td>\n",
       "      <td>Directed</td>\n",
       "      <td>25567</td>\n",
       "      <td>NaN</td>\n",
       "      <td>1</td>\n",
       "    </tr>\n",
       "    <tr>\n",
       "      <th>25568</th>\n",
       "      <td>440</td>\n",
       "      <td>460</td>\n",
       "      <td>Directed</td>\n",
       "      <td>25568</td>\n",
       "      <td>NaN</td>\n",
       "      <td>1</td>\n",
       "    </tr>\n",
       "    <tr>\n",
       "      <th>25569</th>\n",
       "      <td>52</td>\n",
       "      <td>786</td>\n",
       "      <td>Directed</td>\n",
       "      <td>25569</td>\n",
       "      <td>NaN</td>\n",
       "      <td>1</td>\n",
       "    </tr>\n",
       "    <tr>\n",
       "      <th>25570</th>\n",
       "      <td>506</td>\n",
       "      <td>932</td>\n",
       "      <td>Directed</td>\n",
       "      <td>25570</td>\n",
       "      <td>NaN</td>\n",
       "      <td>1</td>\n",
       "    </tr>\n",
       "  </tbody>\n",
       "</table>\n",
       "<p>25571 rows × 6 columns</p>\n",
       "</div>"
      ],
      "text/plain": [
       "       Source  Target      Type     Id  Label  Weight\n",
       "0           0       1  Directed      0    NaN       1\n",
       "1           2       3  Directed      1    NaN       1\n",
       "2           2       4  Directed      2    NaN       1\n",
       "3           5       6  Directed      3    NaN       1\n",
       "4           5       7  Directed      4    NaN       1\n",
       "...       ...     ...       ...    ...    ...     ...\n",
       "25566     420     143  Directed  25566    NaN       1\n",
       "25567     174     859  Directed  25567    NaN       1\n",
       "25568     440     460  Directed  25568    NaN       1\n",
       "25569      52     786  Directed  25569    NaN       1\n",
       "25570     506     932  Directed  25570    NaN       1\n",
       "\n",
       "[25571 rows x 6 columns]"
      ]
     },
     "execution_count": 14,
     "metadata": {},
     "output_type": "execute_result"
    }
   ],
   "source": [
    "edges"
   ]
  },
  {
   "cell_type": "code",
   "execution_count": 15,
   "id": "621f17fc",
   "metadata": {},
   "outputs": [
    {
     "data": {
      "text/plain": [
       "0          0\n",
       "1          2\n",
       "2          2\n",
       "3          5\n",
       "4          5\n",
       "        ... \n",
       "25566    420\n",
       "25567    174\n",
       "25568    440\n",
       "25569     52\n",
       "25570    506\n",
       "Name: Source, Length: 25571, dtype: int64"
      ]
     },
     "execution_count": 15,
     "metadata": {},
     "output_type": "execute_result"
    }
   ],
   "source": [
    "edges[\"Source\"]"
   ]
  },
  {
   "cell_type": "code",
   "execution_count": 9,
   "id": "952d9427",
   "metadata": {},
   "outputs": [],
   "source": [
    "nodes_file = \n",
    "nodes = pd.read_csv(nodes_file)"
   ]
  },
  {
   "cell_type": "code",
   "execution_count": 10,
   "id": "3ffc7443",
   "metadata": {},
   "outputs": [
    {
     "data": {
      "text/html": [
       "<div>\n",
       "<style scoped>\n",
       "    .dataframe tbody tr th:only-of-type {\n",
       "        vertical-align: middle;\n",
       "    }\n",
       "\n",
       "    .dataframe tbody tr th {\n",
       "        vertical-align: top;\n",
       "    }\n",
       "\n",
       "    .dataframe thead th {\n",
       "        text-align: right;\n",
       "    }\n",
       "</style>\n",
       "<table border=\"1\" class=\"dataframe\">\n",
       "  <thead>\n",
       "    <tr style=\"text-align: right;\">\n",
       "      <th></th>\n",
       "      <th>0</th>\n",
       "      <th>Unnamed: 1</th>\n",
       "    </tr>\n",
       "  </thead>\n",
       "  <tbody>\n",
       "    <tr>\n",
       "      <th>0</th>\n",
       "      <td>1</td>\n",
       "      <td>NaN</td>\n",
       "    </tr>\n",
       "    <tr>\n",
       "      <th>1</th>\n",
       "      <td>2</td>\n",
       "      <td>NaN</td>\n",
       "    </tr>\n",
       "    <tr>\n",
       "      <th>2</th>\n",
       "      <td>3</td>\n",
       "      <td>NaN</td>\n",
       "    </tr>\n",
       "    <tr>\n",
       "      <th>3</th>\n",
       "      <td>4</td>\n",
       "      <td>NaN</td>\n",
       "    </tr>\n",
       "    <tr>\n",
       "      <th>4</th>\n",
       "      <td>5</td>\n",
       "      <td>NaN</td>\n",
       "    </tr>\n",
       "    <tr>\n",
       "      <th>...</th>\n",
       "      <td>...</td>\n",
       "      <td>...</td>\n",
       "    </tr>\n",
       "    <tr>\n",
       "      <th>25566</th>\n",
       "      <td>420</td>\n",
       "      <td>NaN</td>\n",
       "    </tr>\n",
       "    <tr>\n",
       "      <th>25567</th>\n",
       "      <td>174</td>\n",
       "      <td>NaN</td>\n",
       "    </tr>\n",
       "    <tr>\n",
       "      <th>25568</th>\n",
       "      <td>440</td>\n",
       "      <td>NaN</td>\n",
       "    </tr>\n",
       "    <tr>\n",
       "      <th>25569</th>\n",
       "      <td>52</td>\n",
       "      <td>NaN</td>\n",
       "    </tr>\n",
       "    <tr>\n",
       "      <th>25570</th>\n",
       "      <td>506</td>\n",
       "      <td>NaN</td>\n",
       "    </tr>\n",
       "  </tbody>\n",
       "</table>\n",
       "<p>25571 rows × 2 columns</p>\n",
       "</div>"
      ],
      "text/plain": [
       "         0  Unnamed: 1\n",
       "0        1         NaN\n",
       "1        2         NaN\n",
       "2        3         NaN\n",
       "3        4         NaN\n",
       "4        5         NaN\n",
       "...    ...         ...\n",
       "25566  420         NaN\n",
       "25567  174         NaN\n",
       "25568  440         NaN\n",
       "25569   52         NaN\n",
       "25570  506         NaN\n",
       "\n",
       "[25571 rows x 2 columns]"
      ]
     },
     "execution_count": 10,
     "metadata": {},
     "output_type": "execute_result"
    }
   ],
   "source": [
    "nodes"
   ]
  },
  {
   "cell_type": "code",
   "execution_count": null,
   "id": "3cbea9f7",
   "metadata": {},
   "outputs": [],
   "source": []
  },
  {
   "cell_type": "code",
   "execution_count": 44,
   "id": "79a8863f",
   "metadata": {},
   "outputs": [],
   "source": [
    "G = nx.Graph()\n",
    "\n",
    "for _, row in edges.iterrows():\n",
    "    G.add_edge(row['source'], row['target'])\n",
    "for _, row in nodes.iterrows():\n",
    "    G.add_node(row['id'], name=row['name'], new_id=row['new_id'])"
   ]
  },
  {
   "cell_type": "code",
   "execution_count": 45,
   "id": "971e882b",
   "metadata": {},
   "outputs": [],
   "source": [
    "degree_dict = dict(G.degree())"
   ]
  },
  {
   "cell_type": "code",
   "execution_count": 46,
   "id": "bd6f3ec0",
   "metadata": {},
   "outputs": [
    {
     "name": "stdout",
     "output_type": "stream",
     "text": [
      "Number of nodes: 1240\n",
      "Number of edges: 2102\n"
     ]
    }
   ],
   "source": [
    "print(f\"Number of nodes: {G.number_of_nodes()}\")\n",
    "print(f\"Number of edges: {G.number_of_edges()}\")"
   ]
  },
  {
   "cell_type": "code",
   "execution_count": 47,
   "id": "9db1b7f8",
   "metadata": {},
   "outputs": [],
   "source": [
    "nx.set_node_attributes(G, degree_dict, 'size')\n",
    "for node in G.nodes():\n",
    "    G.nodes[node]['size'] = degree_dict[node] * 10\n",
    "sizes = [G.degree(n) * 10 for n in G.nodes()]"
   ]
  },
  {
   "cell_type": "code",
   "execution_count": 48,
   "id": "c928b485",
   "metadata": {},
   "outputs": [
    {
     "data": {
      "image/png": "[encoded data removed]",
      "text/plain": [
       "<Figure size 1000x600 with 1 Axes>"
      ]
     },
     "metadata": {},
     "output_type": "display_data"
    }
   ],
   "source": [
    "degrees = [G.degree(n) for n in G.nodes()]\n",
    "plt.figure(figsize=(10, 6))\n",
    "plt.hist(degrees, bins=50, color='blue', alpha=0.7)\n",
    "plt.title(\"Degree Distribution\")\n",
    "plt.xlabel(\"Degree\")\n",
    "plt.ylabel(\"Frequency\")\n",
    "plt.show()"
   ]
  },
  {
   "cell_type": "code",
   "execution_count": 49,
   "id": "ef2c4d1d",
   "metadata": {},
   "outputs": [],
   "source": [
    "sorted_degrees = sorted(degree_dict.values())"
   ]
  },
  {
   "cell_type": "code",
   "execution_count": 50,
   "id": "5ab93753",
   "metadata": {},
   "outputs": [],
   "source": [
    "bottom_10_percentile = pd.Series(list(degree_dict.values())).quantile(0.1)"
   ]
  },
  {
   "cell_type": "code",
   "execution_count": 51,
   "id": "73b3c606",
   "metadata": {},
   "outputs": [],
   "source": [
    "bottom_10_nodes = [node for node, degree in degree_dict.items() if degree <= bottom_10_percentile]"
   ]
  },
  {
   "cell_type": "code",
   "execution_count": 52,
   "id": "f0af4a95",
   "metadata": {},
   "outputs": [],
   "source": [
    "top_5_percentile = pd.Series(list(degree_dict.values())).quantile(0.95)"
   ]
  },
  {
   "cell_type": "code",
   "execution_count": 53,
   "id": "dbb87c78",
   "metadata": {},
   "outputs": [],
   "source": [
    "top_5_nodes = [node for node, degree in degree_dict.items() if degree >= top_5_percentile]"
   ]
  },
  {
   "cell_type": "code",
   "execution_count": 54,
   "id": "05f7318a",
   "metadata": {},
   "outputs": [],
   "source": [
    "# Bottom 10% of nodes\n",
    "bottom_10_nodes = [n for n, d in degree_dict.items() if d <= bottom_10_percentile]\n",
    "bottom_10_subgraph = G.subgraph(bottom_10_nodes)\n",
    "\n",
    "# Top 5% of nodes\n",
    "top_5_nodes = [n for n, d in degree_dict.items() if d >= top_5_percentile]\n",
    "top_5_subgraph = G.subgraph(top_5_nodes)"
   ]
  },
  {
   "cell_type": "code",
   "execution_count": 55,
   "id": "c1d7576a",
   "metadata": {},
   "outputs": [
    {
     "data": {
      "image/png": "[encoded data removed]",
      "text/plain": [
       "<Figure size 1000x600 with 1 Axes>"
      ]
     },
     "metadata": {},
     "output_type": "display_data"
    }
   ],
   "source": [
    "plt.figure(figsize=(10, 6))\n",
    "nx.draw(bottom_10_subgraph, with_labels=False, node_color='red')\n",
    "plt.title(\"Bottom 10% Nodes and their Connections\")\n",
    "plt.show()"
   ]
  },
  {
   "cell_type": "code",
   "execution_count": 38,
   "id": "100409ed",
   "metadata": {},
   "outputs": [
    {
     "data": {
      "image/png": "[encoded data removed]",
      "text/plain": [
       "<Figure size 1000x600 with 1 Axes>"
      ]
     },
     "metadata": {},
     "output_type": "display_data"
    }
   ],
   "source": [
    "plt.figure(figsize=(10, 6))\n",
    "nx.draw(top_5_subgraph, with_labels=False, node_color='green')\n",
    "plt.title(\"Top 5% Nodes and their Connections\")\n",
    "plt.show()"
   ]
  },
  {
   "cell_type": "code",
   "execution_count": 40,
   "id": "84962279",
   "metadata": {},
   "outputs": [
    {
     "ename": "NameError",
     "evalue": "name 'connected_components' is not defined",
     "output_type": "error",
     "traceback": [
      "\u001b[1;31m---------------------------------------------------------------------------\u001b[0m",
      "\u001b[1;31mNameError\u001b[0m                                 Traceback (most recent call last)",
      "\u001b[1;32m~\\AppData\\Local\\Temp\\ipykernel_16016\\2030377197.py\u001b[0m in \u001b[0;36m<module>\u001b[1;34m\u001b[0m\n\u001b[1;32m----> 1\u001b[1;33m \u001b[0mgiant_component\u001b[0m \u001b[1;33m=\u001b[0m \u001b[0mconnected_components\u001b[0m\u001b[1;33m[\u001b[0m\u001b[1;36m0\u001b[0m\u001b[1;33m]\u001b[0m\u001b[1;33m\u001b[0m\u001b[1;33m\u001b[0m\u001b[0m\n\u001b[0m\u001b[0;32m      2\u001b[0m \u001b[0mgiant_component_size\u001b[0m \u001b[1;33m=\u001b[0m \u001b[0mlen\u001b[0m\u001b[1;33m(\u001b[0m\u001b[0mgiant_component\u001b[0m\u001b[1;33m)\u001b[0m\u001b[1;33m\u001b[0m\u001b[1;33m\u001b[0m\u001b[0m\n",
      "\u001b[1;31mNameError\u001b[0m: name 'connected_components' is not defined"
     ]
    }
   ],
   "source": [
    "giant_component = connected_components[0]\n",
    "giant_component_size = len(giant_component)"
   ]
  },
  {
   "cell_type": "code",
   "execution_count": null,
   "id": "fe5c7ed4",
   "metadata": {},
   "outputs": [],
   "source": [
    "print(giant_component_size)"
   ]
  },
  {
   "cell_type": "code",
   "execution_count": 76,
   "id": "83b77a74",
   "metadata": {},
   "outputs": [],
   "source": [
    "connected_components = list(nx.connected_components(G))\n",
    "connected_components_sizes = [len(c) for c in connected_components]"
   ]
  },
  {
   "cell_type": "code",
   "execution_count": 77,
   "id": "04aafdda",
   "metadata": {},
   "outputs": [],
   "source": [
    "giant_component_size = max(connected_components_sizes)\n",
    "giant_component = max(connected_components, key=len)\n",
    "giant_subgraph = G.subgraph(giant_component)"
   ]
  },
  {
   "cell_type": "code",
   "execution_count": 78,
   "id": "8ef5a920",
   "metadata": {},
   "outputs": [
    {
     "name": "stdout",
     "output_type": "stream",
     "text": [
      "620\n"
     ]
    }
   ],
   "source": [
    "print(giant_component_size)"
   ]
  },
  {
   "cell_type": "code",
   "execution_count": 1,
   "id": "bbe096ac",
   "metadata": {},
   "outputs": [
    {
     "ename": "NameError",
     "evalue": "name 'plt' is not defined",
     "output_type": "error",
     "traceback": [
      "\u001b[1;31m---------------------------------------------------------------------------\u001b[0m",
      "\u001b[1;31mNameError\u001b[0m                                 Traceback (most recent call last)",
      "\u001b[1;32m~\\AppData\\Local\\Temp\\ipykernel_7724\\1497174864.py\u001b[0m in \u001b[0;36m<module>\u001b[1;34m\u001b[0m\n\u001b[1;32m----> 1\u001b[1;33m \u001b[0mplt\u001b[0m\u001b[1;33m.\u001b[0m\u001b[0mfigure\u001b[0m\u001b[1;33m(\u001b[0m\u001b[0mfigsize\u001b[0m\u001b[1;33m=\u001b[0m\u001b[1;33m(\u001b[0m\u001b[1;36m10\u001b[0m\u001b[1;33m,\u001b[0m \u001b[1;36m6\u001b[0m\u001b[1;33m)\u001b[0m\u001b[1;33m)\u001b[0m\u001b[1;33m\u001b[0m\u001b[1;33m\u001b[0m\u001b[0m\n\u001b[0m\u001b[0;32m      2\u001b[0m \u001b[0mnx\u001b[0m\u001b[1;33m.\u001b[0m\u001b[0mdraw\u001b[0m\u001b[1;33m(\u001b[0m\u001b[0mgiant_subgraph\u001b[0m\u001b[1;33m,\u001b[0m \u001b[0mwith_labels\u001b[0m\u001b[1;33m=\u001b[0m\u001b[1;32mFalse\u001b[0m\u001b[1;33m,\u001b[0m \u001b[0mnode_color\u001b[0m\u001b[1;33m=\u001b[0m\u001b[1;34m'lightblue'\u001b[0m\u001b[1;33m)\u001b[0m\u001b[1;33m\u001b[0m\u001b[1;33m\u001b[0m\u001b[0m\n\u001b[0;32m      3\u001b[0m \u001b[0mplt\u001b[0m\u001b[1;33m.\u001b[0m\u001b[0mtitle\u001b[0m\u001b[1;33m(\u001b[0m\u001b[1;34mf\"Giant Component (Size: {giant_component_size})\"\u001b[0m\u001b[1;33m)\u001b[0m\u001b[1;33m\u001b[0m\u001b[1;33m\u001b[0m\u001b[0m\n\u001b[0;32m      4\u001b[0m \u001b[0mplt\u001b[0m\u001b[1;33m.\u001b[0m\u001b[0mshow\u001b[0m\u001b[1;33m(\u001b[0m\u001b[1;33m)\u001b[0m\u001b[1;33m\u001b[0m\u001b[1;33m\u001b[0m\u001b[0m\n",
      "\u001b[1;31mNameError\u001b[0m: name 'plt' is not defined"
     ]
    }
   ],
   "source": [
    "plt.figure(figsize=(10, 6))\n",
    "nx.draw(giant_subgraph, with_labels=False, node_color='lightblue')\n",
    "plt.title(f\"Giant Component (Size: {giant_component_size})\")\n",
    "plt.show()"
   ]
  },
  {
   "cell_type": "code",
   "execution_count": null,
   "id": "c6eb258c",
   "metadata": {},
   "outputs": [],
   "source": []
  }
 ],
 "metadata": {
  "kernelspec": {
   "display_name": "Python 3 (ipykernel)",
   "language": "python",
   "name": "python3"
  },
  "language_info": {
   "codemirror_mode": {
    "name": "ipython",
    "version": 3
   },
   "file_extension": ".py",
   "mimetype": "text/x-python",
   "name": "python",
   "nbconvert_exporter": "python",
   "pygments_lexer": "ipython3",
   "version": "3.9.13"
  }
 },
 "nbformat": 4,
 "nbformat_minor": 5
}
