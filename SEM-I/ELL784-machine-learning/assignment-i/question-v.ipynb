{
 "cells": [
  {
   "cell_type": "markdown",
   "id": "07440296",
   "metadata": {},
   "source": [
    "### Importing Libraries"
   ]
  },
  {
   "cell_type": "code",
   "execution_count": 5,
   "id": "b5fdad6e",
   "metadata": {},
   "outputs": [],
   "source": [
    "import numpy as np\n",
    "import matplotlib.pyplot as plt"
   ]
  },
  {
   "cell_type": "markdown",
   "id": "7dfe7bfb",
   "metadata": {},
   "source": [
    "### Loading MNIST data"
   ]
  },
  {
   "cell_type": "code",
   "execution_count": 2,
   "id": "29b6aa9c",
   "metadata": {},
   "outputs": [],
   "source": [
    "with np.load('./mnist.npz') as data:\n",
    "    X_train = data['x_train']\n",
    "    y_train = data['y_train']\n",
    "    X_test = data['x_test']\n",
    "    y_test = data['y_test']"
   ]
  },
  {
   "cell_type": "markdown",
   "id": "d25f6cdd",
   "metadata": {},
   "source": [
    "### Preprocess the data"
   ]
  },
  {
   "cell_type": "code",
   "execution_count": 3,
   "id": "c75b3e0b",
   "metadata": {},
   "outputs": [],
   "source": [
    "X_train = X_train.reshape(-1, 28 * 28) / 255.0\n",
    "X_test = X_test.reshape(-1, 28 * 28) / 255.0\n",
    "y_train = np.eye(10)[y_train]\n",
    "y_test = np.eye(10)[y_test]"
   ]
  },
  {
   "cell_type": "markdown",
   "id": "f6acd03b",
   "metadata": {},
   "source": [
    "### Split training data into training and validation sets"
   ]
  },
  {
   "cell_type": "code",
   "execution_count": 6,
   "id": "4ffa3e96",
   "metadata": {},
   "outputs": [],
   "source": [
    "from sklearn.model_selection import train_test_split\n",
    "X_train, X_val, y_train, y_val = train_test_split(X_train, y_train, test_size=0.2, random_state=42)"
   ]
  },
  {
   "cell_type": "markdown",
   "id": "190702ed",
   "metadata": {},
   "source": [
    "### Initialize weights"
   ]
  },
  {
   "cell_type": "code",
   "execution_count": 17,
   "id": "f609209c",
   "metadata": {},
   "outputs": [],
   "source": [
    "def initialize_weights(input_size, hidden_size, output_size):\n",
    "    W1 = np.random.randn(input_size, hidden_size) * 0.01\n",
    "    b1 = np.zeros((1, hidden_size))\n",
    "    W2 = np.random.randn(hidden_size, output_size) * 0.01\n",
    "    b2 = np.zeros((1, output_size))\n",
    "    return W1, b1, W2, b2"
   ]
  },
  {
   "cell_type": "markdown",
   "id": "94fbf190",
   "metadata": {},
   "source": [
    "### Activation functions"
   ]
  },
  {
   "cell_type": "code",
   "execution_count": 7,
   "id": "74418278",
   "metadata": {},
   "outputs": [],
   "source": [
    "def relu(Z):\n",
    "    return np.maximum(0, Z)\n",
    "def softmax(Z):\n",
    "    expZ = np.exp(Z - np.max(Z, axis=1, keepdims=True))\n",
    "    return expZ / np.sum(expZ, axis=1, keepdims=True)"
   ]
  },
  {
   "cell_type": "markdown",
   "id": "58ecdb65",
   "metadata": {},
   "source": [
    "### Forward propagation"
   ]
  },
  {
   "cell_type": "code",
   "execution_count": 8,
   "id": "9ea08033",
   "metadata": {},
   "outputs": [],
   "source": [
    "def forward_propagation(X, W1, b1, W2, b2):\n",
    "    Z1 = np.dot(X, W1) + b1\n",
    "    A1 = relu(Z1)\n",
    "    Z2 = np.dot(A1, W2) + b2\n",
    "    A2 = softmax(Z2)\n",
    "    return Z1, A1, Z2, A2"
   ]
  },
  {
   "cell_type": "markdown",
   "id": "0a89baa0",
   "metadata": {},
   "source": [
    "### Backward propagation"
   ]
  },
  {
   "cell_type": "code",
   "execution_count": 9,
   "id": "0a770b7d",
   "metadata": {},
   "outputs": [],
   "source": [
    "def backward_propagation(X, Y, Z1, A1, Z2, A2, W1, W2):\n",
    "    m = X.shape[0]\n",
    "    \n",
    "    dZ2 = A2 - Y\n",
    "    dW2 = np.dot(A1.T, dZ2) / m\n",
    "    db2 = np.sum(dZ2, axis=0, keepdims=True) / m\n",
    "    \n",
    "    dA1 = np.dot(dZ2, W2.T)\n",
    "    dZ1 = dA1 * (Z1 > 0)\n",
    "    dW1 = np.dot(X.T, dZ1) / m\n",
    "    db1 = np.sum(dZ1, axis=0, keepdims=True) / m\n",
    "    \n",
    "    return dW1, db1, dW2, db2"
   ]
  },
  {
   "cell_type": "markdown",
   "id": "9f532f5f",
   "metadata": {},
   "source": [
    "### Update weights"
   ]
  },
  {
   "cell_type": "code",
   "execution_count": 12,
   "id": "2fc70c6e",
   "metadata": {},
   "outputs": [],
   "source": [
    "def update_weights(W1, b1, W2, b2, dW1, db1, dW2, db2, learning_rate):\n",
    "    W1 -= learning_rate * dW1\n",
    "    b1 -= learning_rate * db1\n",
    "    W2 -= learning_rate * dW2\n",
    "    b2 -= learning_rate * db2\n",
    "    return W1, b1, W2, b2"
   ]
  },
  {
   "cell_type": "markdown",
   "id": "ee55370f",
   "metadata": {},
   "source": [
    "### Training function with validation"
   ]
  },
  {
   "cell_type": "code",
   "execution_count": 13,
   "id": "a0c96e3f",
   "metadata": {},
   "outputs": [],
   "source": [
    "def train(X_train, y_train, X_val, y_val, hidden_size, learning_rate, epochs):\n",
    "    input_size = X_train.shape[1]\n",
    "    output_size = y_train.shape[1]\n",
    "    \n",
    "    W1, b1, W2, b2 = initialize_weights(input_size, hidden_size, output_size)\n",
    "    \n",
    "    training_loss = []\n",
    "    validation_loss = []\n",
    "    training_accuracy = []\n",
    "    validation_accuracy = []\n",
    "    \n",
    "    for epoch in range(epochs):\n",
    "        # Forward propagation\n",
    "        Z1, A1, Z2, A2 = forward_propagation(X_train, W1, b1, W2, b2)\n",
    "        Z1_val, A1_val, Z2_val, A2_val = forward_propagation(X_val, W1, b1, W2, b2)\n",
    "        \n",
    "        # Loss calculation\n",
    "        train_loss = -np.mean(y_train * np.log(A2))\n",
    "        val_loss = -np.mean(y_val * np.log(A2_val))\n",
    "        \n",
    "        # Accuracy calculation\n",
    "        train_acc = accuracy(np.argmax(A2, axis=1), np.argmax(y_train, axis=1))\n",
    "        val_acc = accuracy(np.argmax(A2_val, axis=1), np.argmax(y_val, axis=1))\n",
    "        \n",
    "        training_loss.append(train_loss)\n",
    "        validation_loss.append(val_loss)\n",
    "        training_accuracy.append(train_acc)\n",
    "        validation_accuracy.append(val_acc)\n",
    "        \n",
    "        # Backward propagation\n",
    "        dW1, db1, dW2, db2 = backward_propagation(X_train, y_train, Z1, A1, Z2, A2, W1, W2)\n",
    "        \n",
    "        # Update weights\n",
    "        W1, b1, W2, b2 = update_weights(W1, b1, W2, b2, dW1, db1, dW2, db2, learning_rate)\n",
    "        \n",
    "        if epoch % 10 == 0:\n",
    "            print(f'Epoch {epoch}, Training Loss: {train_loss:.4f}, Validation Loss: {val_loss:.4f}, Training Accuracy: {train_acc:.4f}, Validation Accuracy: {val_acc:.4f}')\n",
    "    \n",
    "    return W1, b1, W2, b2, training_loss, validation_loss, training_accuracy, validation_accuracy"
   ]
  },
  {
   "cell_type": "code",
   "execution_count": 14,
   "id": "373f2b03",
   "metadata": {},
   "outputs": [],
   "source": [
    "def predict(X, W1, b1, W2, b2):\n",
    "    _, _, _, A2 = forward_propagation(X, W1, b1, W2, b2)\n",
    "    return np.argmax(A2, axis=1)"
   ]
  },
  {
   "cell_type": "code",
   "execution_count": 15,
   "id": "52c13bcf",
   "metadata": {},
   "outputs": [],
   "source": [
    "def accuracy(y_pred, y_true):\n",
    "    return np.mean(y_pred == y_true)"
   ]
  },
  {
   "cell_type": "markdown",
   "id": "a7be319f",
   "metadata": {},
   "source": [
    "### Train the model"
   ]
  },
  {
   "cell_type": "code",
   "execution_count": 18,
   "id": "793bb10b",
   "metadata": {},
   "outputs": [
    {
     "name": "stdout",
     "output_type": "stream",
     "text": [
      "Epoch 0, Training Loss: 0.2303, Validation Loss: 0.2303, Training Accuracy: 0.0888, Validation Accuracy: 0.0864\n",
      "Epoch 10, Training Loss: 0.2288, Validation Loss: 0.2289, Training Accuracy: 0.2841, Validation Accuracy: 0.2835\n",
      "Epoch 20, Training Loss: 0.2263, Validation Loss: 0.2263, Training Accuracy: 0.3034, Validation Accuracy: 0.3039\n",
      "Epoch 30, Training Loss: 0.2209, Validation Loss: 0.2210, Training Accuracy: 0.3368, Validation Accuracy: 0.3363\n",
      "Epoch 40, Training Loss: 0.2107, Validation Loss: 0.2108, Training Accuracy: 0.4240, Validation Accuracy: 0.4245\n",
      "Epoch 50, Training Loss: 0.1940, Validation Loss: 0.1942, Training Accuracy: 0.5599, Validation Accuracy: 0.5610\n",
      "Epoch 60, Training Loss: 0.1708, Validation Loss: 0.1711, Training Accuracy: 0.6609, Validation Accuracy: 0.6602\n",
      "Epoch 70, Training Loss: 0.1450, Validation Loss: 0.1453, Training Accuracy: 0.7068, Validation Accuracy: 0.7066\n",
      "Epoch 80, Training Loss: 0.1226, Validation Loss: 0.1228, Training Accuracy: 0.7416, Validation Accuracy: 0.7402\n",
      "Epoch 90, Training Loss: 0.1054, Validation Loss: 0.1055, Training Accuracy: 0.7692, Validation Accuracy: 0.7692\n"
     ]
    }
   ],
   "source": [
    "hidden_size = 128\n",
    "learning_rate = 0.1\n",
    "epochs = 100\n",
    "W1, b1, W2, b2, train_loss, val_loss, train_acc, val_acc = train(X_train,\n",
    "                                                                 y_train,\n",
    "                                                                 X_val,\n",
    "                                                                 y_val,\n",
    "                                                                 hidden_size,\n",
    "                                                                 learning_rate,\n",
    "                                                                 epochs)"
   ]
  },
  {
   "cell_type": "markdown",
   "id": "5cb44a97",
   "metadata": {},
   "source": [
    "### Test the model"
   ]
  },
  {
   "cell_type": "code",
   "execution_count": 19,
   "id": "f725b2cd",
   "metadata": {},
   "outputs": [
    {
     "name": "stdout",
     "output_type": "stream",
     "text": [
      "Test Accuracy: 0.7955\n"
     ]
    }
   ],
   "source": [
    "y_pred = predict(X_test, W1, b1, W2, b2)\n",
    "test_accuracy = accuracy(y_pred, np.argmax(y_test, axis=1))\n",
    "print(f'Test Accuracy: {test_accuracy:.4f}')"
   ]
  },
  {
   "cell_type": "markdown",
   "id": "a0f31b7d",
   "metadata": {},
   "source": [
    "### Plotting loss and accuracy"
   ]
  },
  {
   "cell_type": "code",
   "execution_count": 20,
   "id": "528c8f75",
   "metadata": {},
   "outputs": [
    {
     "data": {
      "image/png": "[encoded data removed]",
      "text/plain": [
       "<Figure size 1200x500 with 2 Axes>"
      ]
     },
     "metadata": {},
     "output_type": "display_data"
    }
   ],
   "source": [
    "def plot_metrics(train_loss, val_loss, train_acc, val_acc):\n",
    "    epochs = len(train_loss)\n",
    "    \n",
    "    plt.figure(figsize=(12, 5))\n",
    "    \n",
    "    plt.subplot(1, 2, 1)\n",
    "    plt.plot(range(epochs), train_loss, label='Training Loss')\n",
    "    plt.plot(range(epochs), val_loss, label='Validation Loss')\n",
    "    plt.xlabel('Epochs')\n",
    "    plt.ylabel('Loss')\n",
    "    plt.title('Loss vs. Epochs')\n",
    "    plt.legend()\n",
    "\n",
    "    plt.subplot(1, 2, 2)\n",
    "    plt.plot(range(epochs), train_acc, label='Training Accuracy')\n",
    "    plt.plot(range(epochs), val_acc, label='Validation Accuracy')\n",
    "    plt.xlabel('Epochs')\n",
    "    plt.ylabel('Accuracy')\n",
    "    plt.title('Accuracy vs. Epochs')\n",
    "    plt.legend()\n",
    "\n",
    "    plt.tight_layout()\n",
    "    plt.show()\n",
    "\n",
    "plot_metrics(train_loss, val_loss, train_acc, val_acc)"
   ]
  }
 ],
 "metadata": {
  "kernelspec": {
   "display_name": "Python 3 (ipykernel)",
   "language": "python",
   "name": "python3"
  },
  "language_info": {
   "codemirror_mode": {
    "name": "ipython",
    "version": 3
   },
   "file_extension": ".py",
   "mimetype": "text/x-python",
   "name": "python",
   "nbconvert_exporter": "python",
   "pygments_lexer": "ipython3",
   "version": "3.9.13"
  }
 },
 "nbformat": 4,
 "nbformat_minor": 5
}
