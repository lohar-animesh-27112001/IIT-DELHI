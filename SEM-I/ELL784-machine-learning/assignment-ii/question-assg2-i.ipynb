{
 "cells": [
  {
   "cell_type": "markdown",
   "id": "6a8fd2d8",
   "metadata": {},
   "source": [
    "### Importing Libraries"
   ]
  },
  {
   "cell_type": "code",
   "execution_count": 1,
   "id": "8450faa5",
   "metadata": {},
   "outputs": [],
   "source": [
    "import numpy as np\n",
    "import matplotlib.pyplot as plt"
   ]
  },
  {
   "cell_type": "markdown",
   "id": "b28d1c25",
   "metadata": {},
   "source": [
    "### Loading MNIST data"
   ]
  },
  {
   "cell_type": "code",
   "execution_count": 2,
   "id": "4958dbb5",
   "metadata": {},
   "outputs": [],
   "source": [
    "with np.load('./mnist.npz') as data:\n",
    "    X_train = data['x_train']\n",
    "    y_train = data['y_train']\n",
    "    X_test = data['x_test']\n",
    "    y_test = data['y_test']"
   ]
  },
  {
   "cell_type": "markdown",
   "id": "d791b705",
   "metadata": {},
   "source": [
    "### Preprocess the data"
   ]
  },
  {
   "cell_type": "code",
   "execution_count": 3,
   "id": "0253f40d",
   "metadata": {},
   "outputs": [],
   "source": [
    "X_train = X_train.reshape(-1, 28 * 28) / 255.0\n",
    "X_test = X_test.reshape(-1, 28 * 28) / 255.0"
   ]
  },
  {
   "cell_type": "markdown",
   "id": "61dff4e1",
   "metadata": {},
   "source": [
    "### One hot encoding"
   ]
  },
  {
   "cell_type": "code",
   "execution_count": 4,
   "id": "be1354e6",
   "metadata": {},
   "outputs": [],
   "source": [
    "def one_hot_encode(y, num_classes):\n",
    "    return np.eye(num_classes)[y]\n",
    "\n",
    "y_train = one_hot_encode(y_train, 10)\n",
    "y_test = one_hot_encode(y_test, 10)"
   ]
  },
  {
   "cell_type": "markdown",
   "id": "f5c56cb2",
   "metadata": {},
   "source": [
    "### Split training data into training and validation sets"
   ]
  },
  {
   "cell_type": "code",
   "execution_count": 24,
   "id": "1c3fcaaf",
   "metadata": {},
   "outputs": [],
   "source": [
    "def train_test_split(X, y, test_size=0.2, random_state=None):\n",
    "    if random_state is not None:\n",
    "        np.random.seed(random_state)\n",
    "    indices = np.arange(X.shape[0])\n",
    "    np.random.shuffle(indices)\n",
    "    split_idx = int(len(indices) * (1 - test_size))\n",
    "    train_indices = indices[:split_idx]\n",
    "    val_indices = indices[split_idx:]\n",
    "    X_train, X_val = X[train_indices], X[val_indices]\n",
    "    y_train, y_val = y[train_indices], y[val_indices]\n",
    "    return X_train, X_val, y_train, y_val\n",
    "\n",
    "X_train, X_val, y_train, y_val = train_test_split(X_train, y_train, test_size=0.2, random_state=42)"
   ]
  },
  {
   "cell_type": "markdown",
   "id": "f252ea56",
   "metadata": {},
   "source": [
    "### Initialize weights"
   ]
  },
  {
   "cell_type": "code",
   "execution_count": 6,
   "id": "b0e9f794",
   "metadata": {},
   "outputs": [],
   "source": [
    "def initialize_weights(input_size, hidden_size, output_size):\n",
    "    W1 = np.random.randn(input_size, hidden_size) * 0.01\n",
    "    b1 = np.zeros((1, hidden_size))\n",
    "    W2 = np.random.randn(hidden_size, output_size) * 0.01\n",
    "    b2 = np.zeros((1, output_size))\n",
    "    return W1, b1, W2, b2"
   ]
  },
  {
   "cell_type": "markdown",
   "id": "b52a7eb9",
   "metadata": {},
   "source": [
    "### Activation functions"
   ]
  },
  {
   "cell_type": "code",
   "execution_count": 7,
   "id": "0a7f334d",
   "metadata": {},
   "outputs": [],
   "source": [
    "def relu(Z):\n",
    "    return np.maximum(0, Z)\n",
    "def softmax(Z):\n",
    "    expZ = np.exp(Z - np.max(Z, axis=1, keepdims=True))\n",
    "    return expZ / np.sum(expZ, axis=1, keepdims=True)"
   ]
  },
  {
   "cell_type": "markdown",
   "id": "d9a47272",
   "metadata": {},
   "source": [
    "### Forward propagation"
   ]
  },
  {
   "cell_type": "code",
   "execution_count": 8,
   "id": "ea77edf4",
   "metadata": {},
   "outputs": [],
   "source": [
    "def forward_propagation(X, W1, b1, W2, b2):\n",
    "    Z1 = np.dot(X, W1) + b1\n",
    "    A1 = relu(Z1)\n",
    "    Z2 = np.dot(A1, W2) + b2\n",
    "    A2 = softmax(Z2)\n",
    "    return Z1, A1, Z2, A2"
   ]
  },
  {
   "cell_type": "markdown",
   "id": "7ef885c3",
   "metadata": {},
   "source": [
    "### Backward propagation"
   ]
  },
  {
   "cell_type": "code",
   "execution_count": 9,
   "id": "a9ce17b9",
   "metadata": {},
   "outputs": [],
   "source": [
    "def backward_propagation(X, Y, Z1, A1, Z2, A2, W1, W2):\n",
    "    m = X.shape[0]\n",
    "    \n",
    "    dZ2 = A2 - Y\n",
    "    dW2 = np.dot(A1.T, dZ2) / m\n",
    "    db2 = np.sum(dZ2, axis=0, keepdims=True) / m\n",
    "    \n",
    "    dA1 = np.dot(dZ2, W2.T)\n",
    "    dZ1 = dA1 * (Z1 > 0)\n",
    "    dW1 = np.dot(X.T, dZ1) / m\n",
    "    db1 = np.sum(dZ1, axis=0, keepdims=True) / m\n",
    "    \n",
    "    return dW1, db1, dW2, db2"
   ]
  },
  {
   "cell_type": "markdown",
   "id": "1de13c3f",
   "metadata": {},
   "source": [
    "### Update weights"
   ]
  },
  {
   "cell_type": "code",
   "execution_count": 11,
   "id": "cced003f",
   "metadata": {},
   "outputs": [],
   "source": [
    "def update_weights(W1, b1, W2, b2, dW1, db1, dW2, db2, learning_rate):\n",
    "    W1 -= learning_rate * dW1\n",
    "    b1 -= learning_rate * db1\n",
    "    W2 -= learning_rate * dW2\n",
    "    b2 -= learning_rate * db2\n",
    "    return W1, b1, W2, b2"
   ]
  },
  {
   "cell_type": "markdown",
   "id": "9db0367a",
   "metadata": {},
   "source": [
    "### Training function with validation"
   ]
  },
  {
   "cell_type": "code",
   "execution_count": 12,
   "id": "f0151124",
   "metadata": {},
   "outputs": [],
   "source": [
    "def train(X_train, y_train, X_val, y_val, hidden_size, learning_rate, epochs):\n",
    "    input_size = X_train.shape[1]\n",
    "    output_size = y_train.shape[1]\n",
    "    \n",
    "    W1, b1, W2, b2 = initialize_weights(input_size, hidden_size, output_size)\n",
    "    \n",
    "    training_loss = []\n",
    "    validation_loss = []\n",
    "    training_accuracy = []\n",
    "    validation_accuracy = []\n",
    "    \n",
    "    for epoch in range(epochs):\n",
    "        Z1, A1, Z2, A2 = forward_propagation(X_train, W1, b1, W2, b2)\n",
    "        Z1_val, A1_val, Z2_val, A2_val = forward_propagation(X_val, W1, b1, W2, b2)\n",
    "        train_loss = -np.mean(y_train * np.log(A2))\n",
    "        val_loss = -np.mean(y_val * np.log(A2_val))\n",
    "        train_acc = accuracy(np.argmax(A2, axis=1), np.argmax(y_train, axis=1))\n",
    "        val_acc = accuracy(np.argmax(A2_val, axis=1), np.argmax(y_val, axis=1))\n",
    "        training_loss.append(train_loss)\n",
    "        validation_loss.append(val_loss)\n",
    "        training_accuracy.append(train_acc)\n",
    "        validation_accuracy.append(val_acc)\n",
    "        dW1, db1, dW2, db2 = backward_propagation(X_train, y_train, Z1, A1, Z2, A2, W1, W2)\n",
    "        W1, b1, W2, b2 = update_weights(W1, b1, W2, b2, dW1, db1, dW2, db2, learning_rate)\n",
    "        if epoch % 10 == 0:\n",
    "            print(f'Epoch {epoch}, Training Loss: {train_loss:.4f}, Validation Loss: {val_loss:.4f}, Training Accuracy: {train_acc:.4f}, Validation Accuracy: {val_acc:.4f}')\n",
    "    \n",
    "    return W1, b1, W2, b2, training_loss, validation_loss, training_accuracy, validation_accuracy"
   ]
  },
  {
   "cell_type": "code",
   "execution_count": 13,
   "id": "6165f97d",
   "metadata": {},
   "outputs": [],
   "source": [
    "def predict(X, W1, b1, W2, b2):\n",
    "    _, _, _, A2 = forward_propagation(X, W1, b1, W2, b2)\n",
    "    return np.argmax(A2, axis=1)"
   ]
  },
  {
   "cell_type": "code",
   "execution_count": 14,
   "id": "81960c52",
   "metadata": {},
   "outputs": [],
   "source": [
    "def accuracy(y_pred, y_true):\n",
    "    return np.mean(y_pred == y_true)"
   ]
  },
  {
   "cell_type": "markdown",
   "id": "e8ecb714",
   "metadata": {},
   "source": [
    "### Train the model"
   ]
  },
  {
   "cell_type": "code",
   "execution_count": 21,
   "id": "dbb2e4da",
   "metadata": {},
   "outputs": [
    {
     "name": "stdout",
     "output_type": "stream",
     "text": [
      "Epoch 0, Training Loss: 0.2303, Validation Loss: 0.2303, Training Accuracy: 0.0929, Validation Accuracy: 0.0936\n",
      "Epoch 10, Training Loss: 0.2195, Validation Loss: 0.2196, Training Accuracy: 0.4336, Validation Accuracy: 0.4338\n",
      "Epoch 20, Training Loss: 0.1553, Validation Loss: 0.1556, Training Accuracy: 0.6827, Validation Accuracy: 0.6858\n",
      "Epoch 30, Training Loss: 0.0920, Validation Loss: 0.0921, Training Accuracy: 0.7840, Validation Accuracy: 0.7831\n",
      "Epoch 40, Training Loss: 0.0677, Validation Loss: 0.0676, Training Accuracy: 0.8293, Validation Accuracy: 0.8281\n",
      "Epoch 50, Training Loss: 0.0560, Validation Loss: 0.0560, Training Accuracy: 0.8548, Validation Accuracy: 0.8553\n",
      "Epoch 60, Training Loss: 0.0501, Validation Loss: 0.0500, Training Accuracy: 0.8673, Validation Accuracy: 0.8669\n",
      "Epoch 70, Training Loss: 0.0532, Validation Loss: 0.0532, Training Accuracy: 0.8344, Validation Accuracy: 0.8334\n",
      "Epoch 80, Training Loss: 0.0421, Validation Loss: 0.0419, Training Accuracy: 0.8876, Validation Accuracy: 0.8866\n",
      "Epoch 90, Training Loss: 0.0397, Validation Loss: 0.0395, Training Accuracy: 0.8919, Validation Accuracy: 0.8918\n",
      "Epoch 100, Training Loss: 0.0380, Validation Loss: 0.0378, Training Accuracy: 0.8957, Validation Accuracy: 0.8956\n",
      "Epoch 110, Training Loss: 0.0366, Validation Loss: 0.0364, Training Accuracy: 0.8983, Validation Accuracy: 0.8981\n",
      "Epoch 120, Training Loss: 0.0355, Validation Loss: 0.0353, Training Accuracy: 0.9009, Validation Accuracy: 0.9019\n",
      "Epoch 130, Training Loss: 0.0345, Validation Loss: 0.0343, Training Accuracy: 0.9031, Validation Accuracy: 0.9041\n",
      "Epoch 140, Training Loss: 0.0336, Validation Loss: 0.0335, Training Accuracy: 0.9047, Validation Accuracy: 0.9062\n",
      "Epoch 150, Training Loss: 0.0329, Validation Loss: 0.0328, Training Accuracy: 0.9069, Validation Accuracy: 0.9079\n",
      "Epoch 160, Training Loss: 0.0322, Validation Loss: 0.0321, Training Accuracy: 0.9078, Validation Accuracy: 0.9095\n",
      "Epoch 170, Training Loss: 0.0316, Validation Loss: 0.0315, Training Accuracy: 0.9100, Validation Accuracy: 0.9111\n",
      "Epoch 180, Training Loss: 0.0310, Validation Loss: 0.0310, Training Accuracy: 0.9114, Validation Accuracy: 0.9122\n",
      "Epoch 190, Training Loss: 0.0305, Validation Loss: 0.0305, Training Accuracy: 0.9131, Validation Accuracy: 0.9135\n",
      "Epoch 200, Training Loss: 0.0300, Validation Loss: 0.0300, Training Accuracy: 0.9148, Validation Accuracy: 0.9148\n",
      "Epoch 210, Training Loss: 0.0295, Validation Loss: 0.0295, Training Accuracy: 0.9158, Validation Accuracy: 0.9155\n",
      "Epoch 220, Training Loss: 0.0290, Validation Loss: 0.0291, Training Accuracy: 0.9171, Validation Accuracy: 0.9173\n",
      "Epoch 230, Training Loss: 0.0286, Validation Loss: 0.0287, Training Accuracy: 0.9184, Validation Accuracy: 0.9177\n",
      "Epoch 240, Training Loss: 0.0281, Validation Loss: 0.0283, Training Accuracy: 0.9197, Validation Accuracy: 0.9186\n"
     ]
    }
   ],
   "source": [
    "hidden_size = 128\n",
    "learning_rate = 0.35\n",
    "epochs = 250\n",
    "W1, b1, W2, b2, train_loss, val_loss, train_acc, val_acc = train(X_train,\n",
    "                                                                 y_train,\n",
    "                                                                 X_val,\n",
    "                                                                 y_val,\n",
    "                                                                 hidden_size,\n",
    "                                                                 learning_rate,\n",
    "                                                                 epochs)"
   ]
  },
  {
   "cell_type": "markdown",
   "id": "8beb1ee2",
   "metadata": {},
   "source": [
    "### Test the model"
   ]
  },
  {
   "cell_type": "code",
   "execution_count": 22,
   "id": "104971d4",
   "metadata": {},
   "outputs": [
    {
     "name": "stdout",
     "output_type": "stream",
     "text": [
      "Test Accuracy: 0.9239\n"
     ]
    }
   ],
   "source": [
    "y_pred = predict(X_test, W1, b1, W2, b2)\n",
    "test_accuracy = accuracy(y_pred, np.argmax(y_test, axis=1))\n",
    "print(f'Test Accuracy: {test_accuracy:.4f}')"
   ]
  },
  {
   "cell_type": "markdown",
   "id": "181e308f",
   "metadata": {},
   "source": [
    "### Plotting loss and accuracy"
   ]
  },
  {
   "cell_type": "code",
   "execution_count": 23,
   "id": "a6dbd4df",
   "metadata": {},
   "outputs": [
    {
     "data": {
      "image/png": "[encoded data removed]",
      "text/plain": [
       "<Figure size 1200x500 with 2 Axes>"
      ]
     },
     "metadata": {},
     "output_type": "display_data"
    }
   ],
   "source": [
    "def plot_metrics(train_loss, val_loss, train_acc, val_acc):\n",
    "    epochs = len(train_loss)\n",
    "    \n",
    "    plt.figure(figsize=(12, 5))\n",
    "    \n",
    "    plt.subplot(1, 2, 1)\n",
    "    plt.plot(range(epochs), train_loss, label='Training Loss')\n",
    "    plt.plot(range(epochs), val_loss, label='Validation Loss')\n",
    "    plt.xlabel('Epochs')\n",
    "    plt.ylabel('Loss')\n",
    "    plt.title('Loss vs. Epochs')\n",
    "    plt.legend()\n",
    "\n",
    "    plt.subplot(1, 2, 2)\n",
    "    plt.plot(range(epochs), train_acc, label='Training Accuracy')\n",
    "    plt.plot(range(epochs), val_acc, label='Validation Accuracy')\n",
    "    plt.xlabel('Epochs')\n",
    "    plt.ylabel('Accuracy')\n",
    "    plt.title('Accuracy vs. Epochs')\n",
    "    plt.legend()\n",
    "\n",
    "    plt.tight_layout()\n",
    "    plt.show()\n",
    "\n",
    "plot_metrics(train_loss, val_loss, train_acc, val_acc)"
   ]
  }
 ],
 "metadata": {
  "kernelspec": {
   "display_name": "Python 3 (ipykernel)",
   "language": "python",
   "name": "python3"
  },
  "language_info": {
   "codemirror_mode": {
    "name": "ipython",
    "version": 3
   },
   "file_extension": ".py",
   "mimetype": "text/x-python",
   "name": "python",
   "nbconvert_exporter": "python",
   "pygments_lexer": "ipython3",
   "version": "3.9.13"
  }
 },
 "nbformat": 4,
 "nbformat_minor": 5
}
